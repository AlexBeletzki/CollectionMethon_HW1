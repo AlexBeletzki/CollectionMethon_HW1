{
 "cells": [
  {
   "cell_type": "code",
   "execution_count": 1,
   "metadata": {},
   "outputs": [],
   "source": [
    "import requests"
   ]
  },
  {
   "cell_type": "code",
   "execution_count": 6,
   "metadata": {},
   "outputs": [],
   "source": [
    "import getpass"
   ]
  },
  {
   "cell_type": "code",
   "execution_count": 3,
   "metadata": {},
   "outputs": [],
   "source": [
    "username = 'AlexBeletzki'"
   ]
  },
  {
   "cell_type": "code",
   "execution_count": 7,
   "metadata": {},
   "outputs": [
    {
     "name": "stdout",
     "output_type": "stream",
     "text": [
      "········\n"
     ]
    }
   ],
   "source": [
    "password = getpass.getpass()"
   ]
  },
  {
   "cell_type": "code",
   "execution_count": 8,
   "metadata": {},
   "outputs": [],
   "source": [
    "r = requests.get('https://api.github.com/user', auth=(username, password))"
   ]
  },
  {
   "cell_type": "code",
   "execution_count": 9,
   "metadata": {},
   "outputs": [
    {
     "data": {
      "text/plain": [
       "'{\"login\":\"AlexBeletzki\",\"id\":46223038,\"node_id\":\"MDQ6VXNlcjQ2MjIzMDM4\",\"avatar_url\":\"https://avatars3.githubusercontent.com/u/46223038?v=4\",\"gravatar_id\":\"\",\"url\":\"https://api.github.com/users/AlexBeletzki\",\"html_url\":\"https://github.com/AlexBeletzki\",\"followers_url\":\"https://api.github.com/users/AlexBeletzki/followers\",\"following_url\":\"https://api.github.com/users/AlexBeletzki/following{/other_user}\",\"gists_url\":\"https://api.github.com/users/AlexBeletzki/gists{/gist_id}\",\"starred_url\":\"https://api.github.com/users/AlexBeletzki/starred{/owner}{/repo}\",\"subscriptions_url\":\"https://api.github.com/users/AlexBeletzki/subscriptions\",\"organizations_url\":\"https://api.github.com/users/AlexBeletzki/orgs\",\"repos_url\":\"https://api.github.com/users/AlexBeletzki/repos\",\"events_url\":\"https://api.github.com/users/AlexBeletzki/events{/privacy}\",\"received_events_url\":\"https://api.github.com/users/AlexBeletzki/received_events\",\"type\":\"User\",\"site_admin\":false,\"name\":\"Alexey Beletskiy\",\"company\":null,\"blog\":\"\",\"location\":\"Moscow\",\"email\":null,\"hireable\":null,\"bio\":null,\"public_repos\":14,\"public_gists\":0,\"followers\":1,\"following\":0,\"created_at\":\"2018-12-28T13:56:09Z\",\"updated_at\":\"2019-10-16T07:26:57Z\",\"private_gists\":0,\"total_private_repos\":0,\"owned_private_repos\":0,\"disk_usage\":207,\"collaborators\":0,\"two_factor_authentication\":false,\"plan\":{\"name\":\"free\",\"space\":976562499,\"collaborators\":0,\"private_repos\":10000}}'"
      ]
     },
     "execution_count": 9,
     "metadata": {},
     "output_type": "execute_result"
    }
   ],
   "source": [
    "r.text"
   ]
  },
  {
   "cell_type": "code",
   "execution_count": 10,
   "metadata": {},
   "outputs": [
    {
     "data": {
      "text/plain": [
       "{'login': 'AlexBeletzki',\n",
       " 'id': 46223038,\n",
       " 'node_id': 'MDQ6VXNlcjQ2MjIzMDM4',\n",
       " 'avatar_url': 'https://avatars3.githubusercontent.com/u/46223038?v=4',\n",
       " 'gravatar_id': '',\n",
       " 'url': 'https://api.github.com/users/AlexBeletzki',\n",
       " 'html_url': 'https://github.com/AlexBeletzki',\n",
       " 'followers_url': 'https://api.github.com/users/AlexBeletzki/followers',\n",
       " 'following_url': 'https://api.github.com/users/AlexBeletzki/following{/other_user}',\n",
       " 'gists_url': 'https://api.github.com/users/AlexBeletzki/gists{/gist_id}',\n",
       " 'starred_url': 'https://api.github.com/users/AlexBeletzki/starred{/owner}{/repo}',\n",
       " 'subscriptions_url': 'https://api.github.com/users/AlexBeletzki/subscriptions',\n",
       " 'organizations_url': 'https://api.github.com/users/AlexBeletzki/orgs',\n",
       " 'repos_url': 'https://api.github.com/users/AlexBeletzki/repos',\n",
       " 'events_url': 'https://api.github.com/users/AlexBeletzki/events{/privacy}',\n",
       " 'received_events_url': 'https://api.github.com/users/AlexBeletzki/received_events',\n",
       " 'type': 'User',\n",
       " 'site_admin': False,\n",
       " 'name': 'Alexey Beletskiy',\n",
       " 'company': None,\n",
       " 'blog': '',\n",
       " 'location': 'Moscow',\n",
       " 'email': None,\n",
       " 'hireable': None,\n",
       " 'bio': None,\n",
       " 'public_repos': 14,\n",
       " 'public_gists': 0,\n",
       " 'followers': 1,\n",
       " 'following': 0,\n",
       " 'created_at': '2018-12-28T13:56:09Z',\n",
       " 'updated_at': '2019-10-16T07:26:57Z',\n",
       " 'private_gists': 0,\n",
       " 'total_private_repos': 0,\n",
       " 'owned_private_repos': 0,\n",
       " 'disk_usage': 207,\n",
       " 'collaborators': 0,\n",
       " 'two_factor_authentication': False,\n",
       " 'plan': {'name': 'free',\n",
       "  'space': 976562499,\n",
       "  'collaborators': 0,\n",
       "  'private_repos': 10000}}"
      ]
     },
     "execution_count": 10,
     "metadata": {},
     "output_type": "execute_result"
    }
   ],
   "source": [
    "r.json()"
   ]
  },
  {
   "cell_type": "code",
   "execution_count": 11,
   "metadata": {},
   "outputs": [],
   "source": [
    "repos = requests.get('https://api.github.com/user/repos', auth=(username, password))"
   ]
  },
  {
   "cell_type": "code",
   "execution_count": 14,
   "metadata": {},
   "outputs": [
    {
     "data": {
      "text/plain": [
       "{'id': 163416458,\n",
       " 'node_id': 'MDEwOlJlcG9zaXRvcnkxNjM0MTY0NTg=',\n",
       " 'name': 'git-repo',\n",
       " 'full_name': 'AlexBeletzki/git-repo',\n",
       " 'private': False,\n",
       " 'owner': {'login': 'AlexBeletzki',\n",
       "  'id': 46223038,\n",
       "  'node_id': 'MDQ6VXNlcjQ2MjIzMDM4',\n",
       "  'avatar_url': 'https://avatars3.githubusercontent.com/u/46223038?v=4',\n",
       "  'gravatar_id': '',\n",
       "  'url': 'https://api.github.com/users/AlexBeletzki',\n",
       "  'html_url': 'https://github.com/AlexBeletzki',\n",
       "  'followers_url': 'https://api.github.com/users/AlexBeletzki/followers',\n",
       "  'following_url': 'https://api.github.com/users/AlexBeletzki/following{/other_user}',\n",
       "  'gists_url': 'https://api.github.com/users/AlexBeletzki/gists{/gist_id}',\n",
       "  'starred_url': 'https://api.github.com/users/AlexBeletzki/starred{/owner}{/repo}',\n",
       "  'subscriptions_url': 'https://api.github.com/users/AlexBeletzki/subscriptions',\n",
       "  'organizations_url': 'https://api.github.com/users/AlexBeletzki/orgs',\n",
       "  'repos_url': 'https://api.github.com/users/AlexBeletzki/repos',\n",
       "  'events_url': 'https://api.github.com/users/AlexBeletzki/events{/privacy}',\n",
       "  'received_events_url': 'https://api.github.com/users/AlexBeletzki/received_events',\n",
       "  'type': 'User',\n",
       "  'site_admin': False},\n",
       " 'html_url': 'https://github.com/AlexBeletzki/git-repo',\n",
       " 'description': None,\n",
       " 'fork': False,\n",
       " 'url': 'https://api.github.com/repos/AlexBeletzki/git-repo',\n",
       " 'forks_url': 'https://api.github.com/repos/AlexBeletzki/git-repo/forks',\n",
       " 'keys_url': 'https://api.github.com/repos/AlexBeletzki/git-repo/keys{/key_id}',\n",
       " 'collaborators_url': 'https://api.github.com/repos/AlexBeletzki/git-repo/collaborators{/collaborator}',\n",
       " 'teams_url': 'https://api.github.com/repos/AlexBeletzki/git-repo/teams',\n",
       " 'hooks_url': 'https://api.github.com/repos/AlexBeletzki/git-repo/hooks',\n",
       " 'issue_events_url': 'https://api.github.com/repos/AlexBeletzki/git-repo/issues/events{/number}',\n",
       " 'events_url': 'https://api.github.com/repos/AlexBeletzki/git-repo/events',\n",
       " 'assignees_url': 'https://api.github.com/repos/AlexBeletzki/git-repo/assignees{/user}',\n",
       " 'branches_url': 'https://api.github.com/repos/AlexBeletzki/git-repo/branches{/branch}',\n",
       " 'tags_url': 'https://api.github.com/repos/AlexBeletzki/git-repo/tags',\n",
       " 'blobs_url': 'https://api.github.com/repos/AlexBeletzki/git-repo/git/blobs{/sha}',\n",
       " 'git_tags_url': 'https://api.github.com/repos/AlexBeletzki/git-repo/git/tags{/sha}',\n",
       " 'git_refs_url': 'https://api.github.com/repos/AlexBeletzki/git-repo/git/refs{/sha}',\n",
       " 'trees_url': 'https://api.github.com/repos/AlexBeletzki/git-repo/git/trees{/sha}',\n",
       " 'statuses_url': 'https://api.github.com/repos/AlexBeletzki/git-repo/statuses/{sha}',\n",
       " 'languages_url': 'https://api.github.com/repos/AlexBeletzki/git-repo/languages',\n",
       " 'stargazers_url': 'https://api.github.com/repos/AlexBeletzki/git-repo/stargazers',\n",
       " 'contributors_url': 'https://api.github.com/repos/AlexBeletzki/git-repo/contributors',\n",
       " 'subscribers_url': 'https://api.github.com/repos/AlexBeletzki/git-repo/subscribers',\n",
       " 'subscription_url': 'https://api.github.com/repos/AlexBeletzki/git-repo/subscription',\n",
       " 'commits_url': 'https://api.github.com/repos/AlexBeletzki/git-repo/commits{/sha}',\n",
       " 'git_commits_url': 'https://api.github.com/repos/AlexBeletzki/git-repo/git/commits{/sha}',\n",
       " 'comments_url': 'https://api.github.com/repos/AlexBeletzki/git-repo/comments{/number}',\n",
       " 'issue_comment_url': 'https://api.github.com/repos/AlexBeletzki/git-repo/issues/comments{/number}',\n",
       " 'contents_url': 'https://api.github.com/repos/AlexBeletzki/git-repo/contents/{+path}',\n",
       " 'compare_url': 'https://api.github.com/repos/AlexBeletzki/git-repo/compare/{base}...{head}',\n",
       " 'merges_url': 'https://api.github.com/repos/AlexBeletzki/git-repo/merges',\n",
       " 'archive_url': 'https://api.github.com/repos/AlexBeletzki/git-repo/{archive_format}{/ref}',\n",
       " 'downloads_url': 'https://api.github.com/repos/AlexBeletzki/git-repo/downloads',\n",
       " 'issues_url': 'https://api.github.com/repos/AlexBeletzki/git-repo/issues{/number}',\n",
       " 'pulls_url': 'https://api.github.com/repos/AlexBeletzki/git-repo/pulls{/number}',\n",
       " 'milestones_url': 'https://api.github.com/repos/AlexBeletzki/git-repo/milestones{/number}',\n",
       " 'notifications_url': 'https://api.github.com/repos/AlexBeletzki/git-repo/notifications{?since,all,participating}',\n",
       " 'labels_url': 'https://api.github.com/repos/AlexBeletzki/git-repo/labels{/name}',\n",
       " 'releases_url': 'https://api.github.com/repos/AlexBeletzki/git-repo/releases{/id}',\n",
       " 'deployments_url': 'https://api.github.com/repos/AlexBeletzki/git-repo/deployments',\n",
       " 'created_at': '2018-12-28T14:00:12Z',\n",
       " 'updated_at': '2018-12-28T14:19:02Z',\n",
       " 'pushed_at': '2018-12-28T14:19:01Z',\n",
       " 'git_url': 'git://github.com/AlexBeletzki/git-repo.git',\n",
       " 'ssh_url': 'git@github.com:AlexBeletzki/git-repo.git',\n",
       " 'clone_url': 'https://github.com/AlexBeletzki/git-repo.git',\n",
       " 'svn_url': 'https://github.com/AlexBeletzki/git-repo',\n",
       " 'homepage': None,\n",
       " 'size': 0,\n",
       " 'stargazers_count': 0,\n",
       " 'watchers_count': 0,\n",
       " 'language': None,\n",
       " 'has_issues': True,\n",
       " 'has_projects': True,\n",
       " 'has_downloads': True,\n",
       " 'has_wiki': True,\n",
       " 'has_pages': False,\n",
       " 'forks_count': 0,\n",
       " 'mirror_url': None,\n",
       " 'archived': False,\n",
       " 'disabled': False,\n",
       " 'open_issues_count': 0,\n",
       " 'license': None,\n",
       " 'forks': 0,\n",
       " 'open_issues': 0,\n",
       " 'watchers': 0,\n",
       " 'default_branch': 'master',\n",
       " 'permissions': {'admin': True, 'push': True, 'pull': True}}"
      ]
     },
     "execution_count": 14,
     "metadata": {},
     "output_type": "execute_result"
    }
   ],
   "source": [
    "repos.json()[1]"
   ]
  },
  {
   "cell_type": "code",
   "execution_count": 16,
   "metadata": {},
   "outputs": [
    {
     "name": "stdout",
     "output_type": "stream",
     "text": [
      "https://github.com/AlexBeletzki/AABeletskiy_predictions\n",
      "https://github.com/AlexBeletzki/git-repo\n",
      "https://github.com/AlexBeletzki/HomeWorkLess2\n",
      "https://github.com/AlexBeletzki/HWDS\n",
      "https://github.com/AlexBeletzki/HWDS2\n",
      "https://github.com/AlexBeletzki/HWDS3\n",
      "https://github.com/AlexBeletzki/HWDS4\n",
      "https://github.com/AlexBeletzki/HW_SQL_1\n",
      "https://github.com/AlexBeletzki/PAHW2\n",
      "https://github.com/AlexBeletzki/PAHW4\n",
      "https://github.com/AlexBeletzki/PAHW7\n",
      "https://github.com/AlexBeletzki/PythonAlgorithmHomeWork\n",
      "https://github.com/AlexBeletzki/PythonAlgorithmHW1\n",
      "https://github.com/AlexBeletzki/VermiPlant\n"
     ]
    }
   ],
   "source": [
    "for repo in repos.json():\n",
    "    if not repo['private']:\n",
    "        print(repo['html_url'])"
   ]
  },
  {
   "cell_type": "code",
   "execution_count": 18,
   "metadata": {},
   "outputs": [],
   "source": [
    "import json"
   ]
  },
  {
   "cell_type": "code",
   "execution_count": 35,
   "metadata": {},
   "outputs": [],
   "source": [
    "with open(\"repos.json\", \"wb\") as file:\n",
    "    file.write(repos.content)"
   ]
  },
  {
   "cell_type": "code",
   "execution_count": null,
   "metadata": {},
   "outputs": [],
   "source": []
  }
 ],
 "metadata": {
  "kernelspec": {
   "display_name": "Python 3",
   "language": "python",
   "name": "python3"
  },
  "language_info": {
   "codemirror_mode": {
    "name": "ipython",
    "version": 3
   },
   "file_extension": ".py",
   "mimetype": "text/x-python",
   "name": "python",
   "nbconvert_exporter": "python",
   "pygments_lexer": "ipython3",
   "version": "3.7.1"
  }
 },
 "nbformat": 4,
 "nbformat_minor": 2
}
